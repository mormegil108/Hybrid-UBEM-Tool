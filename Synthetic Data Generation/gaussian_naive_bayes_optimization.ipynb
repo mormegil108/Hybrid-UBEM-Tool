{
 "cells": [
  {
   "cell_type": "code",
   "execution_count": 1,
   "id": "6df7a85c",
   "metadata": {},
   "outputs": [],
   "source": [
    "import pandas as pd\n",
    "import numpy as np\n",
    "import matplotlib.pyplot as plt\n",
    "import seaborn as sns\n",
    "from scipy.stats import norm\n",
    "from sklearn.preprocessing import StandardScaler, MinMaxScaler\n",
    "from sklearn.model_selection import train_test_split, cross_validate, GridSearchCV\n",
    "from sklearn.linear_model import LogisticRegression\n",
    "from sklearn.naive_bayes import GaussianNB, MultinomialNB\n",
    "from sklearn.metrics import classification_report, roc_auc_score, precision_recall_curve, average_precision_score, confusion_matrix, ConfusionMatrixDisplay\n",
    "from imblearn.combine import SMOTETomek\n",
    "import os\n",
    "%matplotlib inline"
   ]
  },
  {
   "cell_type": "code",
   "execution_count": 2,
   "id": "ebdb5039",
   "metadata": {},
   "outputs": [
    {
     "name": "stdout",
     "output_type": "stream",
     "text": [
      "<class 'pandas.core.frame.DataFrame'>\n",
      "RangeIndex: 2000 entries, 0 to 1999\n",
      "Data columns (total 12 columns):\n",
      " #   Column             Non-Null Count  Dtype  \n",
      "---  ------             --------------  -----  \n",
      " 0   Scenario           2000 non-null   object \n",
      " 1   dhw_flow_rate      2000 non-null   float64\n",
      " 2   equipment_density  2000 non-null   float64\n",
      " 3   heating_set_point  2000 non-null   int64  \n",
      " 4   infiltration       2000 non-null   float64\n",
      " 5   lighting_density   2000 non-null   float64\n",
      " 6   NG_MAPE            2000 non-null   float64\n",
      " 7   NG_CV-RMSE         2000 non-null   float64\n",
      " 8   Elec_MAPE          2000 non-null   float64\n",
      " 9   Elec_CV-RMSE       2000 non-null   float64\n",
      " 10  TOE_MAPE           2000 non-null   float64\n",
      " 11  TOE_CV-RMSE        2000 non-null   float64\n",
      "dtypes: float64(10), int64(1), object(1)\n",
      "memory usage: 187.6+ KB\n"
     ]
    }
   ],
   "source": [
    "file_path = r\"C:\\Users\\sb013698\\Desktop\\github\\Hybrid UBEM Tool\\Synthetic Data Generation\\Datasets\"\n",
    "data = pd.read_csv(os.path.join(file_path, \"simulation_results.csv\"))\n",
    "data.info()"
   ]
  },
  {
   "cell_type": "code",
   "execution_count": 3,
   "id": "ac326cc1-0e9b-4ec0-9f76-5d8079aabf8e",
   "metadata": {},
   "outputs": [
    {
     "data": {
      "text/html": [
       "<div>\n",
       "<style scoped>\n",
       "    .dataframe tbody tr th:only-of-type {\n",
       "        vertical-align: middle;\n",
       "    }\n",
       "\n",
       "    .dataframe tbody tr th {\n",
       "        vertical-align: top;\n",
       "    }\n",
       "\n",
       "    .dataframe thead th {\n",
       "        text-align: right;\n",
       "    }\n",
       "</style>\n",
       "<table border=\"1\" class=\"dataframe\">\n",
       "  <thead>\n",
       "    <tr style=\"text-align: right;\">\n",
       "      <th></th>\n",
       "      <th>Scenario</th>\n",
       "      <th>dhw_flow_rate</th>\n",
       "      <th>equipment_density</th>\n",
       "      <th>heating_set_point</th>\n",
       "      <th>infiltration</th>\n",
       "      <th>lighting_density</th>\n",
       "      <th>NG_MAPE</th>\n",
       "      <th>NG_CV-RMSE</th>\n",
       "      <th>Elec_MAPE</th>\n",
       "      <th>Elec_CV-RMSE</th>\n",
       "      <th>TOE_MAPE</th>\n",
       "      <th>TOE_CV-RMSE</th>\n",
       "    </tr>\n",
       "  </thead>\n",
       "  <tbody>\n",
       "    <tr>\n",
       "      <th>0</th>\n",
       "      <td>S1836</td>\n",
       "      <td>0.000111</td>\n",
       "      <td>8.75</td>\n",
       "      <td>21</td>\n",
       "      <td>0.3</td>\n",
       "      <td>5.0</td>\n",
       "      <td>0.238036</td>\n",
       "      <td>0.437481</td>\n",
       "      <td>0.639391</td>\n",
       "      <td>0.350574</td>\n",
       "      <td>0.104075</td>\n",
       "      <td>0.118024</td>\n",
       "    </tr>\n",
       "    <tr>\n",
       "      <th>1</th>\n",
       "      <td>S1637</td>\n",
       "      <td>0.000111</td>\n",
       "      <td>6.25</td>\n",
       "      <td>21</td>\n",
       "      <td>0.3</td>\n",
       "      <td>7.5</td>\n",
       "      <td>0.238078</td>\n",
       "      <td>0.437654</td>\n",
       "      <td>0.638762</td>\n",
       "      <td>0.350436</td>\n",
       "      <td>0.103916</td>\n",
       "      <td>0.118109</td>\n",
       "    </tr>\n",
       "    <tr>\n",
       "      <th>2</th>\n",
       "      <td>S1537</td>\n",
       "      <td>0.000111</td>\n",
       "      <td>5.00</td>\n",
       "      <td>21</td>\n",
       "      <td>0.3</td>\n",
       "      <td>7.5</td>\n",
       "      <td>0.220025</td>\n",
       "      <td>0.384299</td>\n",
       "      <td>0.495540</td>\n",
       "      <td>0.297652</td>\n",
       "      <td>0.103604</td>\n",
       "      <td>0.119809</td>\n",
       "    </tr>\n",
       "    <tr>\n",
       "      <th>3</th>\n",
       "      <td>S1736</td>\n",
       "      <td>0.000111</td>\n",
       "      <td>7.50</td>\n",
       "      <td>21</td>\n",
       "      <td>0.3</td>\n",
       "      <td>5.0</td>\n",
       "      <td>0.221008</td>\n",
       "      <td>0.388749</td>\n",
       "      <td>0.496185</td>\n",
       "      <td>0.297889</td>\n",
       "      <td>0.104059</td>\n",
       "      <td>0.120167</td>\n",
       "    </tr>\n",
       "    <tr>\n",
       "      <th>4</th>\n",
       "      <td>S1656</td>\n",
       "      <td>0.000111</td>\n",
       "      <td>6.25</td>\n",
       "      <td>22</td>\n",
       "      <td>0.2</td>\n",
       "      <td>5.0</td>\n",
       "      <td>0.152617</td>\n",
       "      <td>0.218336</td>\n",
       "      <td>0.362325</td>\n",
       "      <td>0.241727</td>\n",
       "      <td>0.095021</td>\n",
       "      <td>0.123257</td>\n",
       "    </tr>\n",
       "  </tbody>\n",
       "</table>\n",
       "</div>"
      ],
      "text/plain": [
       "  Scenario  dhw_flow_rate  equipment_density  heating_set_point  infiltration  \\\n",
       "0    S1836       0.000111               8.75                 21           0.3   \n",
       "1    S1637       0.000111               6.25                 21           0.3   \n",
       "2    S1537       0.000111               5.00                 21           0.3   \n",
       "3    S1736       0.000111               7.50                 21           0.3   \n",
       "4    S1656       0.000111               6.25                 22           0.2   \n",
       "\n",
       "   lighting_density   NG_MAPE  NG_CV-RMSE  Elec_MAPE  Elec_CV-RMSE  TOE_MAPE  \\\n",
       "0               5.0  0.238036    0.437481   0.639391      0.350574  0.104075   \n",
       "1               7.5  0.238078    0.437654   0.638762      0.350436  0.103916   \n",
       "2               7.5  0.220025    0.384299   0.495540      0.297652  0.103604   \n",
       "3               5.0  0.221008    0.388749   0.496185      0.297889  0.104059   \n",
       "4               5.0  0.152617    0.218336   0.362325      0.241727  0.095021   \n",
       "\n",
       "   TOE_CV-RMSE  \n",
       "0     0.118024  \n",
       "1     0.118109  \n",
       "2     0.119809  \n",
       "3     0.120167  \n",
       "4     0.123257  "
      ]
     },
     "execution_count": 3,
     "metadata": {},
     "output_type": "execute_result"
    }
   ],
   "source": [
    "data.head()"
   ]
  },
  {
   "cell_type": "markdown",
   "id": "3a97be6f",
   "metadata": {},
   "source": [
    "# Preprocessing"
   ]
  },
  {
   "cell_type": "code",
   "execution_count": 4,
   "id": "fb46a5be",
   "metadata": {},
   "outputs": [
    {
     "data": {
      "image/png": "[encoded data removed]",
      "text/plain": [
       "<Figure size 600x400 with 1 Axes>"
      ]
     },
     "metadata": {},
     "output_type": "display_data"
    }
   ],
   "source": [
    "# Create a kernel density estimate plot (PDF) for the \"TOE_CV-RMSE\" column\n",
    "plt.figure(figsize=(6, 4))\n",
    "sns.kdeplot(data[\"TOE_CV-RMSE\"], fill=True)\n",
    "plt.xlabel(\"TOE_CV-RMSE\")\n",
    "plt.ylabel(\"Density\")\n",
    "plt.title(\"PDF of TOE_CV-RMSE\")\n",
    "plt.show()"
   ]
  },
  {
   "cell_type": "code",
   "execution_count": 5,
   "id": "4d2b44cc",
   "metadata": {},
   "outputs": [
    {
     "data": {
      "text/plain": [
       "Label\n",
       "0.0    1798\n",
       "1.0     202\n",
       "Name: count, dtype: int64"
      ]
     },
     "execution_count": 5,
     "metadata": {},
     "output_type": "execute_result"
    }
   ],
   "source": [
    "new_df = data.copy()\n",
    "\n",
    "# Define a random error rate for the decision boundary\n",
    "decision_boundary = 0.15\n",
    "\n",
    "# Label scenarios based on the CV-RMSE and the decision boundary\n",
    "for i in range(new_df.shape[0]):\n",
    "    \n",
    "    if new_df.loc[i, \"TOE_CV-RMSE\"] <= decision_boundary:\n",
    "        new_df.loc[i, \"Label\"] = 1\n",
    "    else:\n",
    "        new_df.loc[i, \"Label\"] = 0\n",
    "        \n",
    "new_df[\"Label\"].value_counts()"
   ]
  },
  {
   "cell_type": "code",
   "execution_count": 6,
   "id": "11c6ef0f-56b8-4f47-8425-d425ad454316",
   "metadata": {},
   "outputs": [
    {
     "name": "stdout",
     "output_type": "stream",
     "text": [
      "Interquartile Range (IQR) for TOE_CV-RMSE: 0.121\n",
      "Upper boundary for outliers: 0.483\n"
     ]
    },
    {
     "data": {
      "text/plain": [
       "Label\n",
       "0.0    1774\n",
       "1.0     202\n",
       "Name: count, dtype: int64"
      ]
     },
     "execution_count": 6,
     "metadata": {},
     "output_type": "execute_result"
    }
   ],
   "source": [
    "# Calculate the interquartile range (IQR)\n",
    "q1 = new_df[\"TOE_CV-RMSE\"].quantile(0.25)\n",
    "q3 = new_df[\"TOE_CV-RMSE\"].quantile(0.75)\n",
    "iqr = q3 - q1\n",
    "print(f\"Interquartile Range (IQR) for TOE_CV-RMSE: {iqr:.3f}\")\n",
    "\n",
    "upper_boundary = q3 + (1.5 * iqr)\n",
    "print(f\"Upper boundary for outliers: {upper_boundary:.3f}\")\n",
    "\n",
    "# Remove outliers based on the upper boundary\n",
    "mydf = new_df[new_df[\"TOE_CV-RMSE\"]<=upper_boundary]\n",
    "\n",
    "# Print the updated value counts\n",
    "mydf[\"Label\"].value_counts()"
   ]
  },
  {
   "cell_type": "code",
   "execution_count": 7,
   "id": "862f6cc0-d5c6-41b7-9258-6252620f662f",
   "metadata": {},
   "outputs": [
    {
     "data": {
      "text/html": [
       "<div>\n",
       "<style scoped>\n",
       "    .dataframe tbody tr th:only-of-type {\n",
       "        vertical-align: middle;\n",
       "    }\n",
       "\n",
       "    .dataframe tbody tr th {\n",
       "        vertical-align: top;\n",
       "    }\n",
       "\n",
       "    .dataframe thead th {\n",
       "        text-align: right;\n",
       "    }\n",
       "</style>\n",
       "<table border=\"1\" class=\"dataframe\">\n",
       "  <thead>\n",
       "    <tr style=\"text-align: right;\">\n",
       "      <th></th>\n",
       "      <th>Scenario</th>\n",
       "      <th>dhw_flow_rate</th>\n",
       "      <th>equipment_density</th>\n",
       "      <th>heating_set_point</th>\n",
       "      <th>infiltration</th>\n",
       "      <th>lighting_density</th>\n",
       "      <th>Label</th>\n",
       "    </tr>\n",
       "  </thead>\n",
       "  <tbody>\n",
       "    <tr>\n",
       "      <th>0</th>\n",
       "      <td>S1836</td>\n",
       "      <td>0.000111</td>\n",
       "      <td>8.75</td>\n",
       "      <td>21</td>\n",
       "      <td>0.3</td>\n",
       "      <td>5.0</td>\n",
       "      <td>1.0</td>\n",
       "    </tr>\n",
       "    <tr>\n",
       "      <th>1</th>\n",
       "      <td>S1637</td>\n",
       "      <td>0.000111</td>\n",
       "      <td>6.25</td>\n",
       "      <td>21</td>\n",
       "      <td>0.3</td>\n",
       "      <td>7.5</td>\n",
       "      <td>1.0</td>\n",
       "    </tr>\n",
       "    <tr>\n",
       "      <th>2</th>\n",
       "      <td>S1537</td>\n",
       "      <td>0.000111</td>\n",
       "      <td>5.00</td>\n",
       "      <td>21</td>\n",
       "      <td>0.3</td>\n",
       "      <td>7.5</td>\n",
       "      <td>1.0</td>\n",
       "    </tr>\n",
       "    <tr>\n",
       "      <th>3</th>\n",
       "      <td>S1736</td>\n",
       "      <td>0.000111</td>\n",
       "      <td>7.50</td>\n",
       "      <td>21</td>\n",
       "      <td>0.3</td>\n",
       "      <td>5.0</td>\n",
       "      <td>1.0</td>\n",
       "    </tr>\n",
       "    <tr>\n",
       "      <th>4</th>\n",
       "      <td>S1656</td>\n",
       "      <td>0.000111</td>\n",
       "      <td>6.25</td>\n",
       "      <td>22</td>\n",
       "      <td>0.2</td>\n",
       "      <td>5.0</td>\n",
       "      <td>1.0</td>\n",
       "    </tr>\n",
       "  </tbody>\n",
       "</table>\n",
       "</div>"
      ],
      "text/plain": [
       "  Scenario  dhw_flow_rate  equipment_density  heating_set_point  infiltration  \\\n",
       "0    S1836       0.000111               8.75                 21           0.3   \n",
       "1    S1637       0.000111               6.25                 21           0.3   \n",
       "2    S1537       0.000111               5.00                 21           0.3   \n",
       "3    S1736       0.000111               7.50                 21           0.3   \n",
       "4    S1656       0.000111               6.25                 22           0.2   \n",
       "\n",
       "   lighting_density  Label  \n",
       "0               5.0    1.0  \n",
       "1               7.5    1.0  \n",
       "2               7.5    1.0  \n",
       "3               5.0    1.0  \n",
       "4               5.0    1.0  "
      ]
     },
     "execution_count": 7,
     "metadata": {},
     "output_type": "execute_result"
    }
   ],
   "source": [
    "# Remove redundant columns\n",
    "redundant_cols = ['NG_MAPE', 'NG_CV-RMSE', 'Elec_MAPE', 'Elec_CV-RMSE', 'TOE_MAPE', 'TOE_CV-RMSE']\n",
    "mydf = mydf.drop(columns=redundant_cols)\n",
    "mydf.head()"
   ]
  },
  {
   "cell_type": "code",
   "execution_count": 8,
   "id": "554f4ade-9884-4388-8c8f-5c5448bc2263",
   "metadata": {},
   "outputs": [
    {
     "name": "stdout",
     "output_type": "stream",
     "text": [
      "<class 'pandas.core.frame.DataFrame'>\n",
      "Index: 1976 entries, 0 to 1975\n",
      "Data columns (total 7 columns):\n",
      " #   Column             Non-Null Count  Dtype  \n",
      "---  ------             --------------  -----  \n",
      " 0   Scenario           1976 non-null   object \n",
      " 1   dhw_flow_rate      1976 non-null   float64\n",
      " 2   equipment_density  1976 non-null   float64\n",
      " 3   heating_set_point  1976 non-null   int64  \n",
      " 4   infiltration       1976 non-null   float64\n",
      " 5   lighting_density   1976 non-null   float64\n",
      " 6   Label              1976 non-null   float64\n",
      "dtypes: float64(5), int64(1), object(1)\n",
      "memory usage: 123.5+ KB\n"
     ]
    }
   ],
   "source": [
    "mydf.info()"
   ]
  },
  {
   "cell_type": "markdown",
   "id": "2a332d2b",
   "metadata": {},
   "source": [
    "# Gaussian Naive Bayes Optimization Without Oversampling"
   ]
  },
  {
   "cell_type": "code",
   "execution_count": 9,
   "id": "1dfda437",
   "metadata": {},
   "outputs": [
    {
     "name": "stdout",
     "output_type": "stream",
     "text": [
      "              precision    recall  f1-score   support\n",
      "\n",
      "         0.0       0.90      1.00      0.95      1774\n",
      "         1.0       1.00      0.00      0.00       202\n",
      "\n",
      "    accuracy                           0.90      1976\n",
      "   macro avg       0.95      0.50      0.47      1976\n",
      "weighted avg       0.91      0.90      0.85      1976\n",
      "\n",
      "\n",
      "====================================================================================================\n",
      "\n"
     ]
    },
    {
     "data": {
      "image/png": "[encoded data removed]",
      "text/plain": [
       "<Figure size 600x450 with 2 Axes>"
      ]
     },
     "metadata": {},
     "output_type": "display_data"
    }
   ],
   "source": [
    "# Scale data\n",
    "X = mydf.drop(columns=[\"Scenario\", \"Label\"])\n",
    "y = mydf[\"Label\"]\n",
    "\n",
    "scaler = StandardScaler()\n",
    "scaler.fit(X)\n",
    "X_scaled = scaler.transform(X)\n",
    "\n",
    "bayes = GaussianNB()\n",
    "bayes.fit(X_scaled, y)\n",
    "preds = bayes.predict(X_scaled)\n",
    "\n",
    "# Print classification report\n",
    "print(classification_report(y, preds, zero_division=1))\n",
    "\n",
    "print(\"\\n\" + \"=\"*100 + \"\\n\")\n",
    "\n",
    "# Print a confusion matrix for the classification\n",
    "fig, ax = plt.subplots(figsize=(4, 3), dpi=150)\n",
    "labels = [1, 0]\n",
    "cm = confusion_matrix(y, preds, labels=labels)\n",
    "disp = ConfusionMatrixDisplay(confusion_matrix=cm, display_labels=labels)\n",
    "disp.plot(ax=ax)\n",
    "plt.show()"
   ]
  },
  {
   "cell_type": "code",
   "execution_count": 10,
   "id": "047d3ff0-2b8c-4401-a74f-a0b6c5228d55",
   "metadata": {},
   "outputs": [
    {
     "name": "stdout",
     "output_type": "stream",
     "text": [
      "Estimated Means: [[7.01652762e-05 7.54509583e+00 2.15529876e+01 2.95264938e-01\n",
      "  1.02691657e+01]\n",
      " [7.41960396e-05 7.26485149e+00 2.11881188e+01 3.61386139e-01\n",
      "  8.13118812e+00]]\n",
      "Estimated Variances: [[1.01094663e-04 9.28438224e+00 2.26921432e+01 4.46728368e-01\n",
      "  1.36266272e+01]\n",
      " [9.91330468e-05 9.22016027e+00 2.19813231e+01 3.82066713e-01\n",
      "  1.19484240e+01]]\n"
     ]
    }
   ],
   "source": [
    "# Get the estimated distribution parameters for Label-0 and Label-1\n",
    "mean_list = scaler.inverse_transform(bayes.theta_)\n",
    "var_list = scaler.inverse_transform(bayes.var_)\n",
    "\n",
    "print(\"Estimated Means:\", mean_list)\n",
    "print(\"Estimated Variances:\", var_list)"
   ]
  },
  {
   "cell_type": "code",
   "execution_count": 11,
   "id": "7426cbce",
   "metadata": {},
   "outputs": [
    {
     "name": "stdout",
     "output_type": "stream",
     "text": [
      "LABEL-1\n",
      ">>>>>\n",
      "Expected value (mean) for Parameter dhw_flow_rate: 7.016527621195038e-05\n",
      "Expected value (mean) for Parameter equipment_density: 7.545\n",
      "Expected value (mean) for Parameter heating_set_point: 21.553\n",
      "Expected value (mean) for Parameter infiltration: 0.295\n",
      "Expected value (mean) for Parameter lighting_density: 10.269\n"
     ]
    }
   ],
   "source": [
    "# Expected mean and variances for each parameter: Label==0\n",
    "param_list = X.columns\n",
    "print(\"LABEL-1\\n>>>>>\")\n",
    "for i in range(len(mean_list[0])):\n",
    "    mean = mean_list[0][i]\n",
    "    variance = var_list[0][i]\n",
    "\n",
    "    # Create a normal distribution for the current parameter\n",
    "    dist = norm(loc=mean, scale=np.sqrt(variance))\n",
    "\n",
    "    # Calculate the expected value (mean) for the current parameter\n",
    "    expected_value = dist.mean()\n",
    "    \n",
    "    if param_list[i] == \"dhw_flow_rate\":\n",
    "        print(f\"Expected value (mean) for Parameter {param_list[i]}: {expected_value}\")\n",
    "    else:\n",
    "        print(f\"Expected value (mean) for Parameter {param_list[i]}: {expected_value:.3f}\")"
   ]
  },
  {
   "cell_type": "code",
   "execution_count": 12,
   "id": "cf96d53e",
   "metadata": {},
   "outputs": [
    {
     "name": "stdout",
     "output_type": "stream",
     "text": [
      "LABEL-1\n",
      ">>>>>\n",
      "Expected value (mean) for Parameter dhw_flow_rate: 7.41960396039604e-05\n",
      "Expected value (mean) for Parameter equipment_density: 7.265\n",
      "Expected value (mean) for Parameter heating_set_point: 21.188\n",
      "Expected value (mean) for Parameter infiltration: 0.361\n",
      "Expected value (mean) for Parameter lighting_density: 8.131\n"
     ]
    }
   ],
   "source": [
    "# Expected mean and variances for each parameter: Label==1\n",
    "param_list = X.columns\n",
    "print(\"LABEL-1\\n>>>>>\")\n",
    "for i in range(len(mean_list[1])):\n",
    "    mean = mean_list[1][i]\n",
    "    variance = var_list[1][i]\n",
    "\n",
    "    # Create a normal distribution for the current parameter\n",
    "    dist = norm(loc=mean, scale=np.sqrt(variance))\n",
    "\n",
    "    # Calculate the expected value (mean) for the current parameter\n",
    "    expected_value = dist.mean()\n",
    "    \n",
    "    if param_list[i] == \"dhw_flow_rate\":\n",
    "        print(f\"Expected value (mean) for Parameter {param_list[i]}: {expected_value}\")\n",
    "    else:\n",
    "        print(f\"Expected value (mean) for Parameter {param_list[i]}: {expected_value:.3f}\")"
   ]
  },
  {
   "cell_type": "code",
   "execution_count": 13,
   "id": "6898b9a3",
   "metadata": {},
   "outputs": [
    {
     "data": {
      "text/plain": [
       "{'dhw_flow_rate': 7.42e-05,\n",
       " 'equipment_density': 7.265,\n",
       " 'heating_set_point': 21.188,\n",
       " 'Infiltration': 0.361,\n",
       " 'lighting_density': 8.131}"
      ]
     },
     "execution_count": 13,
     "metadata": {},
     "output_type": "execute_result"
    }
   ],
   "source": [
    "# Select the optimal parameter values based on Label-1\n",
    "optimal_values = {\n",
    "    \"dhw_flow_rate\": mean_list[1][0].round(7),\n",
    "    \"equipment_density\": mean_list[1][1].round(3),\n",
    "    \"heating_set_point\": mean_list[1][2].round(3),\n",
    "    \"Infiltration\": mean_list[1][3].round(3),\n",
    "    \"lighting_density\": mean_list[1][4].round(3),\n",
    "}\n",
    "\n",
    "optimal_values"
   ]
  },
  {
   "cell_type": "markdown",
   "id": "ab4389bd-ae61-4e64-9acf-b6d26c974052",
   "metadata": {},
   "source": [
    "# Gaussian Naive Bayes Optimization With SMOTE Oversampling"
   ]
  },
  {
   "cell_type": "code",
   "execution_count": 14,
   "id": "17dba9eb-1906-460e-97e7-fbb57d7473ac",
   "metadata": {},
   "outputs": [
    {
     "name": "stdout",
     "output_type": "stream",
     "text": [
      "              precision    recall  f1-score   support\n",
      "\n",
      "         0.0       1.00      1.00      1.00       356\n",
      "         1.0       1.00      1.00      1.00        40\n",
      "\n",
      "    accuracy                           1.00       396\n",
      "   macro avg       1.00      1.00      1.00       396\n",
      "weighted avg       1.00      1.00      1.00       396\n",
      "\n",
      "ROC AUC Score: 0.8489466292134831\n",
      "Average Precision Score: 0.36222722421756326\n",
      "\n",
      "====================================================================================================\n",
      "\n"
     ]
    },
    {
     "data": {
      "image/png": "[encoded data removed]",
      "text/plain": [
       "<Figure size 600x450 with 2 Axes>"
      ]
     },
     "metadata": {},
     "output_type": "display_data"
    }
   ],
   "source": [
    "X = mydf.drop(columns=[\"Scenario\", \"Label\"])\n",
    "y = mydf[\"Label\"]\n",
    "\n",
    "# Split the data\n",
    "X_train, X_test, y_train, y_test = train_test_split(X, y, test_size=0.2, random_state=42, stratify=y)\n",
    "\n",
    "# Resample the data to address imbalance\n",
    "smote_tomek = SMOTETomek(random_state=42)\n",
    "X_resampled, y_resampled = smote_tomek.fit_resample(X_train, y_train)\n",
    "\n",
    "# Feature scaling\n",
    "scaler = StandardScaler()\n",
    "X_resampled_scaled = scaler.fit_transform(X_resampled)\n",
    "X_test_scaled = scaler.transform(X_test)\n",
    "\n",
    "# Hyperparameter tuning\n",
    "param_grid = {'var_smoothing': np.logspace(0, -9, num=100)}\n",
    "gnb = GaussianNB()\n",
    "clf = GridSearchCV(gnb, param_grid, cv=5, scoring='roc_auc')\n",
    "clf.fit(X_resampled_scaled, y_resampled)\n",
    "\n",
    "# Best model\n",
    "best_gnb = clf.best_estimator_\n",
    "\n",
    "# Predict on the test data\n",
    "y_pred = best_gnb.predict(X_test_scaled)\n",
    "y_pred_proba = best_gnb.predict_proba(X_test_scaled)[:, 1]\n",
    "\n",
    "# Classification report\n",
    "print(classification_report(y_test, y_test))\n",
    "print(\"ROC AUC Score:\", roc_auc_score(y_test, y_pred_proba))\n",
    "precision, recall, _ = precision_recall_curve(y_test, y_pred_proba)\n",
    "print(\"Average Precision Score:\", average_precision_score(y_test, y_pred_proba))\n",
    "\n",
    "print(\"\\n\" + \"=\"*100 + \"\\n\")\n",
    "\n",
    "# Confusion Matrix\n",
    "fig, ax = plt.subplots(figsize=(4, 3), dpi=150)\n",
    "labels = [1, 0]\n",
    "cm = confusion_matrix(y_test, y_test, labels=labels)\n",
    "disp = ConfusionMatrixDisplay(confusion_matrix=cm, display_labels=labels)\n",
    "disp.plot(ax=ax)\n",
    "plt.show()"
   ]
  },
  {
   "cell_type": "code",
   "execution_count": 15,
   "id": "11c8d413-f78f-435b-846a-98702c2e4b12",
   "metadata": {},
   "outputs": [
    {
     "name": "stdout",
     "output_type": "stream",
     "text": [
      "Estimated Means: [[7.05172615e-05 7.57465404e+00 2.15579024e+01 2.93809177e-01\n",
      "  1.02713037e+01]\n",
      " [7.63420653e-05 7.27887186e+00 2.10422433e+01 3.61412684e-01\n",
      "  7.92527104e+00]]\n",
      "Estimated Variances: [[1.05755343e-04 9.22868534e+00 2.26117681e+01 4.88813419e-01\n",
      "  1.29873507e+01]\n",
      " [9.75954789e-05 9.03700297e+00 2.18316429e+01 4.02921163e-01\n",
      "  1.09485885e+01]]\n"
     ]
    }
   ],
   "source": [
    "# Get the estimated distribution parameters for Label-0 and Label-1\n",
    "mean_list = scaler.inverse_transform(best_gnb.theta_)\n",
    "var_list = scaler.inverse_transform(best_gnb.var_)\n",
    "\n",
    "print(\"Estimated Means:\", mean_list)\n",
    "print(\"Estimated Variances:\", var_list)"
   ]
  },
  {
   "cell_type": "code",
   "execution_count": 16,
   "id": "0192035e-221c-4719-9caf-8807a9802e6b",
   "metadata": {},
   "outputs": [
    {
     "name": "stdout",
     "output_type": "stream",
     "text": [
      "LABEL-1\n",
      ">>>>>\n",
      "Expected value (mean) for Parameter dhw_flow_rate: 7.63420652954938e-05\n",
      "Expected value (mean) for Parameter equipment_density: 7.279\n",
      "Expected value (mean) for Parameter heating_set_point: 21.042\n",
      "Expected value (mean) for Parameter infiltration: 0.361\n",
      "Expected value (mean) for Parameter lighting_density: 7.925\n"
     ]
    }
   ],
   "source": [
    "# Expected mean and variances for each parameter: Label==1\n",
    "param_list = X.columns\n",
    "print(\"LABEL-1\\n>>>>>\")\n",
    "for i in range(len(mean_list[1])):\n",
    "    mean = mean_list[1][i]\n",
    "    variance = var_list[1][i]\n",
    "\n",
    "    # Create a normal distribution for the current parameter\n",
    "    dist = norm(loc=mean, scale=np.sqrt(variance))\n",
    "\n",
    "    # Calculate the expected value (mean) for the current parameter\n",
    "    expected_value = dist.mean()\n",
    "    \n",
    "    if param_list[i] == \"dhw_flow_rate\":\n",
    "        print(f\"Expected value (mean) for Parameter {param_list[i]}: {expected_value}\")\n",
    "    else:\n",
    "        print(f\"Expected value (mean) for Parameter {param_list[i]}: {expected_value:.3f}\")"
   ]
  },
  {
   "cell_type": "code",
   "execution_count": 17,
   "id": "60b371ae-eea7-45b8-b3dd-1ef4aa548cb9",
   "metadata": {},
   "outputs": [
    {
     "data": {
      "text/plain": [
       "{'dhw_flow_rate': 7.63e-05,\n",
       " 'equipment_density': 7.279,\n",
       " 'heating_set_point': 21.042,\n",
       " 'Infiltration': 0.361,\n",
       " 'lighting_density': 7.925}"
      ]
     },
     "execution_count": 17,
     "metadata": {},
     "output_type": "execute_result"
    }
   ],
   "source": [
    "optimal_smote = {\n",
    "    \"dhw_flow_rate\": mean_list[1][0].round(7),\n",
    "    \"equipment_density\": mean_list[1][1].round(3),\n",
    "    \"heating_set_point\": mean_list[1][2].round(3),\n",
    "    \"Infiltration\": mean_list[1][3].round(3),\n",
    "    \"lighting_density\": mean_list[1][4].round(3),\n",
    "}\n",
    "\n",
    "optimal_smote"
   ]
  },
  {
   "cell_type": "code",
   "execution_count": null,
   "id": "3e2127c3-30b6-44d8-a9e1-9cb2779c9287",
   "metadata": {},
   "outputs": [],
   "source": []
  },
  {
   "cell_type": "code",
   "execution_count": null,
   "id": "ab40807e",
   "metadata": {},
   "outputs": [],
   "source": []
  },
  {
   "cell_type": "markdown",
   "id": "bbc58ed4",
   "metadata": {},
   "source": [
    "# END"
   ]
  }
 ],
 "metadata": {
  "kernelspec": {
   "display_name": "Python 3 (ipykernel)",
   "language": "python",
   "name": "python3"
  },
  "language_info": {
   "codemirror_mode": {
    "name": "ipython",
    "version": 3
   },
   "file_extension": ".py",
   "mimetype": "text/x-python",
   "name": "python",
   "nbconvert_exporter": "python",
   "pygments_lexer": "ipython3",
   "version": "3.8.1"
  }
 },
 "nbformat": 4,
 "nbformat_minor": 5
}
